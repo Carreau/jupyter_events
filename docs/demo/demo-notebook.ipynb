{
 "cells": [
  {
   "cell_type": "markdown",
   "metadata": {},
   "source": [
    "Install Jupyter Events from piplite."
   ]
  },
  {
   "cell_type": "code",
   "execution_count": null,
   "metadata": {},
   "outputs": [],
   "source": [
    "import piplite\n",
    "await piplite.install(\"jupyter_events\")"
   ]
  },
  {
   "cell_type": "markdown",
   "metadata": {},
   "source": [
    "The `EventLogger` is the main object in Jupyter Events."
   ]
  },
  {
   "cell_type": "code",
   "execution_count": 26,
   "metadata": {},
   "outputs": [],
   "source": [
    "from jupyter_events.logger import EventLogger\n",
    "\n",
    "logger = EventLogger()\n"
   ]
  },
  {
   "cell_type": "markdown",
   "metadata": {},
   "source": [
    "To begin emitting events from a Python application, you need to tell the `EventLogger` what events you'd like to emit. To do this, we should register our event's schema (more on this later) with the logger."
   ]
  },
  {
   "cell_type": "code",
   "execution_count": 27,
   "metadata": {},
   "outputs": [
    {
     "name": "stdout",
     "output_type": "stream",
     "text": [
      "Validator class: Draft7Validator\n",
      "Schema: {\n",
      "  \"$id\": \"myapplication.org/example-event\",\n",
      "  \"version\": 1,\n",
      "  \"title\": \"Example Event\",\n",
      "  \"description\": \"An interesting event to collect\",\n",
      "  \"properties\": {\n",
      "    \"name\": {\n",
      "      \"title\": \"Name of Event\",\n",
      "      \"type\": \"string\"\n",
      "    }\n",
      "  }\n",
      "}\n"
     ]
    }
   ],
   "source": [
    "schema = \"\"\"\n",
    "$id: myapplication.org/example-event\n",
    "version: 1\n",
    "title: Example Event\n",
    "description: An interesting event to collect\n",
    "properties:\n",
    "   name:\n",
    "      title: Name of Event\n",
    "      type: string\n",
    "\"\"\"\n",
    "\n",
    "\n",
    "logger.register_event_schema(schema)\n",
    "print(logger.schemas)"
   ]
  },
  {
   "cell_type": "markdown",
   "metadata": {},
   "source": [
    "\n",
    "Now that the logger knows about the event, it needs to know _where_ to send it. To do this, we register a logging _Handler_ —borrowed from Python's standard [`logging`](https://docs.python.org/3/library/logging.html) library—to route the events to the proper place."
   ]
  },
  {
   "cell_type": "code",
   "execution_count": 28,
   "metadata": {},
   "outputs": [],
   "source": [
    "# We will import one of the handlers from Python's logging libray\n",
    "from logging import StreamHandler\n",
    "\n",
    "handler = StreamHandler()\n",
    "\n",
    "logger.register_handler(handler)\n"
   ]
  },
  {
   "cell_type": "markdown",
   "metadata": {},
   "source": [
    "The logger knows about the event and where to send it; all that's left is to emit an instance of the event!"
   ]
  },
  {
   "cell_type": "code",
   "execution_count": 29,
   "metadata": {},
   "outputs": [
    {
     "name": "stderr",
     "output_type": "stream",
     "text": [
      "{\"__timestamp__\": \"2022-08-11T05:06:20.339412Z\", \"__schema__\": \"myapplication.org/example-event\", \"__schema_version__\": 1, \"__metadata_version__\": 1, \"name\": \"My Event\"}\n"
     ]
    },
    {
     "data": {
      "text/plain": [
       "{'__timestamp__': '2022-08-11T05:06:20.339412Z',\n",
       " '__schema__': 'myapplication.org/example-event',\n",
       " '__schema_version__': 1,\n",
       " '__metadata_version__': 1,\n",
       " 'name': 'My Event'}"
      ]
     },
     "execution_count": 29,
     "metadata": {},
     "output_type": "execute_result"
    }
   ],
   "source": [
    "logger.emit(\n",
    "    schema_id=\"myapplication.org/example-event\",\n",
    "    data={\n",
    "       \"name\": \"My Event\"\n",
    "    }\n",
    ")\n"
   ]
  },
  {
   "cell_type": "code",
   "execution_count": null,
   "metadata": {},
   "outputs": [],
   "source": []
  }
 ],
 "metadata": {
  "kernelspec": {
   "display_name": "Python 3.8.10 ('jupyter_events')",
   "language": "python",
   "name": "python3"
  },
  "language_info": {
   "codemirror_mode": {
    "name": "ipython",
    "version": 3
   },
   "file_extension": ".py",
   "mimetype": "text/x-python",
   "name": "python",
   "nbconvert_exporter": "python",
   "pygments_lexer": "ipython3",
   "version": "3.8.10"
  },
  "orig_nbformat": 4,
  "vscode": {
   "interpreter": {
    "hash": "fa70b7d208e0e2ef401b5613e3a2c366a3ff98da2f39442a36f3be51bccaa21d"
   }
  }
 },
 "nbformat": 4,
 "nbformat_minor": 2
}
